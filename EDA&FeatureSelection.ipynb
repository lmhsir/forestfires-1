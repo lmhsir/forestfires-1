{
 "cells": [
  {
   "cell_type": "code",
   "execution_count": 99,
   "metadata": {
    "collapsed": true
   },
   "outputs": [],
   "source": [
    "import pandas as pd\n",
    "import seaborn as sns\n",
    "import numpy as np\n",
    "import matplotlib.pyplot as plt\n",
    "import yellowbrick as yb\n",
    "\n",
    "from yellowbrick.features.rankd import Rank1D, Rank2D \n",
    "from yellowbrick.features.radviz import RadViz \n",
    "from yellowbrick.features.pcoords import ParallelCoordinates \n",
    "from yellowbrick.features.jointplot import JointPlotVisualizer\n",
    "from yellowbrick.features.pca import PCADecomposition\n",
    "from yellowbrick.features.scatter import ScatterVisualizer\n",
    "from sklearn.preprocessing import StandardScaler\n",
    "from sklearn.model_selection import train_test_split\n",
    "from sklearn.ensemble import RandomForestRegressor\n",
    "from sklearn.feature_selection import RFE\n",
    "from sklearn.model_selection import train_test_split, GridSearchCV, RandomizedSearchCV, cross_val_score\n",
    "\n",
    "\n"
   ]
  },
  {
   "cell_type": "code",
   "execution_count": 125,
   "metadata": {
    "collapsed": true
   },
   "outputs": [],
   "source": [
    "%matplotlib inline\n"
   ]
  },
  {
   "cell_type": "code",
   "execution_count": 40,
   "metadata": {},
   "outputs": [
    {
     "data": {
      "text/html": [
       "<div>\n",
       "<style>\n",
       "    .dataframe thead tr:only-child th {\n",
       "        text-align: right;\n",
       "    }\n",
       "\n",
       "    .dataframe thead th {\n",
       "        text-align: left;\n",
       "    }\n",
       "\n",
       "    .dataframe tbody tr th {\n",
       "        vertical-align: top;\n",
       "    }\n",
       "</style>\n",
       "<table border=\"1\" class=\"dataframe\">\n",
       "  <thead>\n",
       "    <tr style=\"text-align: right;\">\n",
       "      <th></th>\n",
       "      <th>X</th>\n",
       "      <th>Y</th>\n",
       "      <th>FFMC</th>\n",
       "      <th>DMC</th>\n",
       "      <th>DC</th>\n",
       "      <th>ISI</th>\n",
       "      <th>temp</th>\n",
       "      <th>RH</th>\n",
       "      <th>wind</th>\n",
       "      <th>rain</th>\n",
       "      <th>...</th>\n",
       "      <th>month_nov</th>\n",
       "      <th>month_oct</th>\n",
       "      <th>month_sep</th>\n",
       "      <th>day_fri</th>\n",
       "      <th>day_mon</th>\n",
       "      <th>day_sat</th>\n",
       "      <th>day_sun</th>\n",
       "      <th>day_thu</th>\n",
       "      <th>day_tue</th>\n",
       "      <th>day_wed</th>\n",
       "    </tr>\n",
       "  </thead>\n",
       "  <tbody>\n",
       "    <tr>\n",
       "      <th>0</th>\n",
       "      <td>7</td>\n",
       "      <td>5</td>\n",
       "      <td>86.2</td>\n",
       "      <td>26.2</td>\n",
       "      <td>94.3</td>\n",
       "      <td>5.1</td>\n",
       "      <td>8.2</td>\n",
       "      <td>51</td>\n",
       "      <td>6.7</td>\n",
       "      <td>0.0</td>\n",
       "      <td>...</td>\n",
       "      <td>0</td>\n",
       "      <td>0</td>\n",
       "      <td>0</td>\n",
       "      <td>1</td>\n",
       "      <td>0</td>\n",
       "      <td>0</td>\n",
       "      <td>0</td>\n",
       "      <td>0</td>\n",
       "      <td>0</td>\n",
       "      <td>0</td>\n",
       "    </tr>\n",
       "    <tr>\n",
       "      <th>1</th>\n",
       "      <td>7</td>\n",
       "      <td>4</td>\n",
       "      <td>90.6</td>\n",
       "      <td>35.4</td>\n",
       "      <td>669.1</td>\n",
       "      <td>6.7</td>\n",
       "      <td>18.0</td>\n",
       "      <td>33</td>\n",
       "      <td>0.9</td>\n",
       "      <td>0.0</td>\n",
       "      <td>...</td>\n",
       "      <td>0</td>\n",
       "      <td>1</td>\n",
       "      <td>0</td>\n",
       "      <td>0</td>\n",
       "      <td>0</td>\n",
       "      <td>0</td>\n",
       "      <td>0</td>\n",
       "      <td>0</td>\n",
       "      <td>1</td>\n",
       "      <td>0</td>\n",
       "    </tr>\n",
       "    <tr>\n",
       "      <th>2</th>\n",
       "      <td>7</td>\n",
       "      <td>4</td>\n",
       "      <td>90.6</td>\n",
       "      <td>43.7</td>\n",
       "      <td>686.9</td>\n",
       "      <td>6.7</td>\n",
       "      <td>14.6</td>\n",
       "      <td>33</td>\n",
       "      <td>1.3</td>\n",
       "      <td>0.0</td>\n",
       "      <td>...</td>\n",
       "      <td>0</td>\n",
       "      <td>1</td>\n",
       "      <td>0</td>\n",
       "      <td>0</td>\n",
       "      <td>0</td>\n",
       "      <td>1</td>\n",
       "      <td>0</td>\n",
       "      <td>0</td>\n",
       "      <td>0</td>\n",
       "      <td>0</td>\n",
       "    </tr>\n",
       "    <tr>\n",
       "      <th>3</th>\n",
       "      <td>8</td>\n",
       "      <td>6</td>\n",
       "      <td>91.7</td>\n",
       "      <td>33.3</td>\n",
       "      <td>77.5</td>\n",
       "      <td>9.0</td>\n",
       "      <td>8.3</td>\n",
       "      <td>97</td>\n",
       "      <td>4.0</td>\n",
       "      <td>0.2</td>\n",
       "      <td>...</td>\n",
       "      <td>0</td>\n",
       "      <td>0</td>\n",
       "      <td>0</td>\n",
       "      <td>1</td>\n",
       "      <td>0</td>\n",
       "      <td>0</td>\n",
       "      <td>0</td>\n",
       "      <td>0</td>\n",
       "      <td>0</td>\n",
       "      <td>0</td>\n",
       "    </tr>\n",
       "    <tr>\n",
       "      <th>4</th>\n",
       "      <td>8</td>\n",
       "      <td>6</td>\n",
       "      <td>89.3</td>\n",
       "      <td>51.3</td>\n",
       "      <td>102.2</td>\n",
       "      <td>9.6</td>\n",
       "      <td>11.4</td>\n",
       "      <td>99</td>\n",
       "      <td>1.8</td>\n",
       "      <td>0.0</td>\n",
       "      <td>...</td>\n",
       "      <td>0</td>\n",
       "      <td>0</td>\n",
       "      <td>0</td>\n",
       "      <td>0</td>\n",
       "      <td>0</td>\n",
       "      <td>0</td>\n",
       "      <td>1</td>\n",
       "      <td>0</td>\n",
       "      <td>0</td>\n",
       "      <td>0</td>\n",
       "    </tr>\n",
       "  </tbody>\n",
       "</table>\n",
       "<p>5 rows × 30 columns</p>\n",
       "</div>"
      ],
      "text/plain": [
       "   X  Y  FFMC   DMC     DC  ISI  temp  RH  wind  rain   ...     month_nov  \\\n",
       "0  7  5  86.2  26.2   94.3  5.1   8.2  51   6.7   0.0   ...             0   \n",
       "1  7  4  90.6  35.4  669.1  6.7  18.0  33   0.9   0.0   ...             0   \n",
       "2  7  4  90.6  43.7  686.9  6.7  14.6  33   1.3   0.0   ...             0   \n",
       "3  8  6  91.7  33.3   77.5  9.0   8.3  97   4.0   0.2   ...             0   \n",
       "4  8  6  89.3  51.3  102.2  9.6  11.4  99   1.8   0.0   ...             0   \n",
       "\n",
       "   month_oct  month_sep  day_fri  day_mon  day_sat  day_sun  day_thu  day_tue  \\\n",
       "0          0          0        1        0        0        0        0        0   \n",
       "1          1          0        0        0        0        0        0        1   \n",
       "2          1          0        0        0        1        0        0        0   \n",
       "3          0          0        1        0        0        0        0        0   \n",
       "4          0          0        0        0        0        1        0        0   \n",
       "\n",
       "   day_wed  \n",
       "0        0  \n",
       "1        0  \n",
       "2        0  \n",
       "3        0  \n",
       "4        0  \n",
       "\n",
       "[5 rows x 30 columns]"
      ]
     },
     "execution_count": 40,
     "metadata": {},
     "output_type": "execute_result"
    }
   ],
   "source": [
    "data = pd.read_csv(\"data/forest_fires_clean.csv\")\n",
    "data.head()"
   ]
  },
  {
   "cell_type": "markdown",
   "metadata": {},
   "source": [
    "###### Data Types"
   ]
  },
  {
   "cell_type": "code",
   "execution_count": 41,
   "metadata": {},
   "outputs": [
    {
     "data": {
      "text/plain": [
       "X              int64\n",
       "Y              int64\n",
       "FFMC         float64\n",
       "DMC          float64\n",
       "DC           float64\n",
       "ISI          float64\n",
       "temp         float64\n",
       "RH             int64\n",
       "wind         float64\n",
       "rain         float64\n",
       "area         float64\n",
       "month_apr      int64\n",
       "month_aug      int64\n",
       "month_dec      int64\n",
       "month_feb      int64\n",
       "month_jan      int64\n",
       "month_jul      int64\n",
       "month_jun      int64\n",
       "month_mar      int64\n",
       "month_may      int64\n",
       "month_nov      int64\n",
       "month_oct      int64\n",
       "month_sep      int64\n",
       "day_fri        int64\n",
       "day_mon        int64\n",
       "day_sat        int64\n",
       "day_sun        int64\n",
       "day_thu        int64\n",
       "day_tue        int64\n",
       "day_wed        int64\n",
       "dtype: object"
      ]
     },
     "execution_count": 41,
     "metadata": {},
     "output_type": "execute_result"
    }
   ],
   "source": [
    "data.dtypes"
   ]
  },
  {
   "cell_type": "markdown",
   "metadata": {},
   "source": [
    "###### Description"
   ]
  },
  {
   "cell_type": "code",
   "execution_count": 44,
   "metadata": {},
   "outputs": [
    {
     "data": {
      "text/html": [
       "<div>\n",
       "<style>\n",
       "    .dataframe thead tr:only-child th {\n",
       "        text-align: right;\n",
       "    }\n",
       "\n",
       "    .dataframe thead th {\n",
       "        text-align: left;\n",
       "    }\n",
       "\n",
       "    .dataframe tbody tr th {\n",
       "        vertical-align: top;\n",
       "    }\n",
       "</style>\n",
       "<table border=\"1\" class=\"dataframe\">\n",
       "  <thead>\n",
       "    <tr style=\"text-align: right;\">\n",
       "      <th></th>\n",
       "      <th>X</th>\n",
       "      <th>Y</th>\n",
       "      <th>FFMC</th>\n",
       "      <th>DMC</th>\n",
       "      <th>DC</th>\n",
       "      <th>ISI</th>\n",
       "      <th>temp</th>\n",
       "      <th>RH</th>\n",
       "      <th>wind</th>\n",
       "      <th>rain</th>\n",
       "      <th>...</th>\n",
       "      <th>month_nov</th>\n",
       "      <th>month_oct</th>\n",
       "      <th>month_sep</th>\n",
       "      <th>day_fri</th>\n",
       "      <th>day_mon</th>\n",
       "      <th>day_sat</th>\n",
       "      <th>day_sun</th>\n",
       "      <th>day_thu</th>\n",
       "      <th>day_tue</th>\n",
       "      <th>day_wed</th>\n",
       "    </tr>\n",
       "  </thead>\n",
       "  <tbody>\n",
       "    <tr>\n",
       "      <th>count</th>\n",
       "      <td>517.000000</td>\n",
       "      <td>517.000000</td>\n",
       "      <td>517.000000</td>\n",
       "      <td>517.000000</td>\n",
       "      <td>517.000000</td>\n",
       "      <td>517.000000</td>\n",
       "      <td>517.000000</td>\n",
       "      <td>517.000000</td>\n",
       "      <td>517.000000</td>\n",
       "      <td>517.000000</td>\n",
       "      <td>...</td>\n",
       "      <td>517.000000</td>\n",
       "      <td>517.000000</td>\n",
       "      <td>517.000000</td>\n",
       "      <td>517.000000</td>\n",
       "      <td>517.000000</td>\n",
       "      <td>517.000000</td>\n",
       "      <td>517.000000</td>\n",
       "      <td>517.000000</td>\n",
       "      <td>517.000000</td>\n",
       "      <td>517.000000</td>\n",
       "    </tr>\n",
       "    <tr>\n",
       "      <th>mean</th>\n",
       "      <td>4.669246</td>\n",
       "      <td>4.299807</td>\n",
       "      <td>90.644681</td>\n",
       "      <td>110.872340</td>\n",
       "      <td>547.940039</td>\n",
       "      <td>9.021663</td>\n",
       "      <td>18.889168</td>\n",
       "      <td>44.288201</td>\n",
       "      <td>4.017602</td>\n",
       "      <td>0.021663</td>\n",
       "      <td>...</td>\n",
       "      <td>0.001934</td>\n",
       "      <td>0.029014</td>\n",
       "      <td>0.332689</td>\n",
       "      <td>0.164410</td>\n",
       "      <td>0.143133</td>\n",
       "      <td>0.162476</td>\n",
       "      <td>0.183752</td>\n",
       "      <td>0.117988</td>\n",
       "      <td>0.123791</td>\n",
       "      <td>0.104449</td>\n",
       "    </tr>\n",
       "    <tr>\n",
       "      <th>std</th>\n",
       "      <td>2.313778</td>\n",
       "      <td>1.229900</td>\n",
       "      <td>5.520111</td>\n",
       "      <td>64.046482</td>\n",
       "      <td>248.066192</td>\n",
       "      <td>4.559477</td>\n",
       "      <td>5.806625</td>\n",
       "      <td>16.317469</td>\n",
       "      <td>1.791653</td>\n",
       "      <td>0.295959</td>\n",
       "      <td>...</td>\n",
       "      <td>0.043980</td>\n",
       "      <td>0.168007</td>\n",
       "      <td>0.471632</td>\n",
       "      <td>0.371006</td>\n",
       "      <td>0.350548</td>\n",
       "      <td>0.369244</td>\n",
       "      <td>0.387657</td>\n",
       "      <td>0.322907</td>\n",
       "      <td>0.329662</td>\n",
       "      <td>0.306138</td>\n",
       "    </tr>\n",
       "    <tr>\n",
       "      <th>min</th>\n",
       "      <td>1.000000</td>\n",
       "      <td>2.000000</td>\n",
       "      <td>18.700000</td>\n",
       "      <td>1.100000</td>\n",
       "      <td>7.900000</td>\n",
       "      <td>0.000000</td>\n",
       "      <td>2.200000</td>\n",
       "      <td>15.000000</td>\n",
       "      <td>0.400000</td>\n",
       "      <td>0.000000</td>\n",
       "      <td>...</td>\n",
       "      <td>0.000000</td>\n",
       "      <td>0.000000</td>\n",
       "      <td>0.000000</td>\n",
       "      <td>0.000000</td>\n",
       "      <td>0.000000</td>\n",
       "      <td>0.000000</td>\n",
       "      <td>0.000000</td>\n",
       "      <td>0.000000</td>\n",
       "      <td>0.000000</td>\n",
       "      <td>0.000000</td>\n",
       "    </tr>\n",
       "    <tr>\n",
       "      <th>25%</th>\n",
       "      <td>3.000000</td>\n",
       "      <td>4.000000</td>\n",
       "      <td>90.200000</td>\n",
       "      <td>68.600000</td>\n",
       "      <td>437.700000</td>\n",
       "      <td>6.500000</td>\n",
       "      <td>15.500000</td>\n",
       "      <td>33.000000</td>\n",
       "      <td>2.700000</td>\n",
       "      <td>0.000000</td>\n",
       "      <td>...</td>\n",
       "      <td>0.000000</td>\n",
       "      <td>0.000000</td>\n",
       "      <td>0.000000</td>\n",
       "      <td>0.000000</td>\n",
       "      <td>0.000000</td>\n",
       "      <td>0.000000</td>\n",
       "      <td>0.000000</td>\n",
       "      <td>0.000000</td>\n",
       "      <td>0.000000</td>\n",
       "      <td>0.000000</td>\n",
       "    </tr>\n",
       "    <tr>\n",
       "      <th>50%</th>\n",
       "      <td>4.000000</td>\n",
       "      <td>4.000000</td>\n",
       "      <td>91.600000</td>\n",
       "      <td>108.300000</td>\n",
       "      <td>664.200000</td>\n",
       "      <td>8.400000</td>\n",
       "      <td>19.300000</td>\n",
       "      <td>42.000000</td>\n",
       "      <td>4.000000</td>\n",
       "      <td>0.000000</td>\n",
       "      <td>...</td>\n",
       "      <td>0.000000</td>\n",
       "      <td>0.000000</td>\n",
       "      <td>0.000000</td>\n",
       "      <td>0.000000</td>\n",
       "      <td>0.000000</td>\n",
       "      <td>0.000000</td>\n",
       "      <td>0.000000</td>\n",
       "      <td>0.000000</td>\n",
       "      <td>0.000000</td>\n",
       "      <td>0.000000</td>\n",
       "    </tr>\n",
       "    <tr>\n",
       "      <th>75%</th>\n",
       "      <td>7.000000</td>\n",
       "      <td>5.000000</td>\n",
       "      <td>92.900000</td>\n",
       "      <td>142.400000</td>\n",
       "      <td>713.900000</td>\n",
       "      <td>10.800000</td>\n",
       "      <td>22.800000</td>\n",
       "      <td>53.000000</td>\n",
       "      <td>4.900000</td>\n",
       "      <td>0.000000</td>\n",
       "      <td>...</td>\n",
       "      <td>0.000000</td>\n",
       "      <td>0.000000</td>\n",
       "      <td>1.000000</td>\n",
       "      <td>0.000000</td>\n",
       "      <td>0.000000</td>\n",
       "      <td>0.000000</td>\n",
       "      <td>0.000000</td>\n",
       "      <td>0.000000</td>\n",
       "      <td>0.000000</td>\n",
       "      <td>0.000000</td>\n",
       "    </tr>\n",
       "    <tr>\n",
       "      <th>max</th>\n",
       "      <td>9.000000</td>\n",
       "      <td>9.000000</td>\n",
       "      <td>96.200000</td>\n",
       "      <td>291.300000</td>\n",
       "      <td>860.600000</td>\n",
       "      <td>56.100000</td>\n",
       "      <td>33.300000</td>\n",
       "      <td>100.000000</td>\n",
       "      <td>9.400000</td>\n",
       "      <td>6.400000</td>\n",
       "      <td>...</td>\n",
       "      <td>1.000000</td>\n",
       "      <td>1.000000</td>\n",
       "      <td>1.000000</td>\n",
       "      <td>1.000000</td>\n",
       "      <td>1.000000</td>\n",
       "      <td>1.000000</td>\n",
       "      <td>1.000000</td>\n",
       "      <td>1.000000</td>\n",
       "      <td>1.000000</td>\n",
       "      <td>1.000000</td>\n",
       "    </tr>\n",
       "  </tbody>\n",
       "</table>\n",
       "<p>8 rows × 30 columns</p>\n",
       "</div>"
      ],
      "text/plain": [
       "                X           Y        FFMC         DMC          DC         ISI  \\\n",
       "count  517.000000  517.000000  517.000000  517.000000  517.000000  517.000000   \n",
       "mean     4.669246    4.299807   90.644681  110.872340  547.940039    9.021663   \n",
       "std      2.313778    1.229900    5.520111   64.046482  248.066192    4.559477   \n",
       "min      1.000000    2.000000   18.700000    1.100000    7.900000    0.000000   \n",
       "25%      3.000000    4.000000   90.200000   68.600000  437.700000    6.500000   \n",
       "50%      4.000000    4.000000   91.600000  108.300000  664.200000    8.400000   \n",
       "75%      7.000000    5.000000   92.900000  142.400000  713.900000   10.800000   \n",
       "max      9.000000    9.000000   96.200000  291.300000  860.600000   56.100000   \n",
       "\n",
       "             temp          RH        wind        rain     ...       month_nov  \\\n",
       "count  517.000000  517.000000  517.000000  517.000000     ...      517.000000   \n",
       "mean    18.889168   44.288201    4.017602    0.021663     ...        0.001934   \n",
       "std      5.806625   16.317469    1.791653    0.295959     ...        0.043980   \n",
       "min      2.200000   15.000000    0.400000    0.000000     ...        0.000000   \n",
       "25%     15.500000   33.000000    2.700000    0.000000     ...        0.000000   \n",
       "50%     19.300000   42.000000    4.000000    0.000000     ...        0.000000   \n",
       "75%     22.800000   53.000000    4.900000    0.000000     ...        0.000000   \n",
       "max     33.300000  100.000000    9.400000    6.400000     ...        1.000000   \n",
       "\n",
       "        month_oct   month_sep     day_fri     day_mon     day_sat     day_sun  \\\n",
       "count  517.000000  517.000000  517.000000  517.000000  517.000000  517.000000   \n",
       "mean     0.029014    0.332689    0.164410    0.143133    0.162476    0.183752   \n",
       "std      0.168007    0.471632    0.371006    0.350548    0.369244    0.387657   \n",
       "min      0.000000    0.000000    0.000000    0.000000    0.000000    0.000000   \n",
       "25%      0.000000    0.000000    0.000000    0.000000    0.000000    0.000000   \n",
       "50%      0.000000    0.000000    0.000000    0.000000    0.000000    0.000000   \n",
       "75%      0.000000    1.000000    0.000000    0.000000    0.000000    0.000000   \n",
       "max      1.000000    1.000000    1.000000    1.000000    1.000000    1.000000   \n",
       "\n",
       "          day_thu     day_tue     day_wed  \n",
       "count  517.000000  517.000000  517.000000  \n",
       "mean     0.117988    0.123791    0.104449  \n",
       "std      0.322907    0.329662    0.306138  \n",
       "min      0.000000    0.000000    0.000000  \n",
       "25%      0.000000    0.000000    0.000000  \n",
       "50%      0.000000    0.000000    0.000000  \n",
       "75%      0.000000    0.000000    0.000000  \n",
       "max      1.000000    1.000000    1.000000  \n",
       "\n",
       "[8 rows x 30 columns]"
      ]
     },
     "execution_count": 44,
     "metadata": {},
     "output_type": "execute_result"
    }
   ],
   "source": [
    "data.describe()\n"
   ]
  },
  {
   "cell_type": "markdown",
   "metadata": {},
   "source": [
    "##### Data Types"
   ]
  },
  {
   "cell_type": "code",
   "execution_count": 425,
   "metadata": {},
   "outputs": [
    {
     "data": {
      "text/plain": [
       "X              int64\n",
       "Y              int64\n",
       "FFMC         float64\n",
       "DMC          float64\n",
       "DC           float64\n",
       "ISI          float64\n",
       "temp         float64\n",
       "RH             int64\n",
       "wind         float64\n",
       "rain         float64\n",
       "area         float64\n",
       "month_apr      int64\n",
       "month_aug      int64\n",
       "month_dec      int64\n",
       "month_feb      int64\n",
       "month_jan      int64\n",
       "month_jul      int64\n",
       "month_jun      int64\n",
       "month_mar      int64\n",
       "month_may      int64\n",
       "month_nov      int64\n",
       "month_oct      int64\n",
       "month_sep      int64\n",
       "day_fri        int64\n",
       "day_mon        int64\n",
       "day_sat        int64\n",
       "day_sun        int64\n",
       "day_thu        int64\n",
       "day_tue        int64\n",
       "day_wed        int64\n",
       "dtype: object"
      ]
     },
     "execution_count": 425,
     "metadata": {},
     "output_type": "execute_result"
    }
   ],
   "source": [
    "data.dtypes"
   ]
  },
  {
   "cell_type": "markdown",
   "metadata": {},
   "source": [
    "###### Checking for null values"
   ]
  },
  {
   "cell_type": "code",
   "execution_count": 228,
   "metadata": {},
   "outputs": [
    {
     "data": {
      "text/plain": [
       "False"
      ]
     },
     "execution_count": 228,
     "metadata": {},
     "output_type": "execute_result"
    }
   ],
   "source": [
    "data.isnull().values.any()"
   ]
  },
  {
   "cell_type": "code",
   "execution_count": 229,
   "metadata": {},
   "outputs": [
    {
     "data": {
      "text/plain": [
       "X            0\n",
       "Y            0\n",
       "FFMC         0\n",
       "DMC          0\n",
       "DC           0\n",
       "ISI          0\n",
       "temp         0\n",
       "RH           0\n",
       "wind         0\n",
       "rain         0\n",
       "area         0\n",
       "month_apr    0\n",
       "month_aug    0\n",
       "month_dec    0\n",
       "month_feb    0\n",
       "month_jan    0\n",
       "month_jul    0\n",
       "month_jun    0\n",
       "month_mar    0\n",
       "month_may    0\n",
       "month_nov    0\n",
       "month_oct    0\n",
       "month_sep    0\n",
       "day_fri      0\n",
       "day_mon      0\n",
       "day_sat      0\n",
       "day_sun      0\n",
       "day_thu      0\n",
       "day_tue      0\n",
       "day_wed      0\n",
       "dtype: int64"
      ]
     },
     "execution_count": 229,
     "metadata": {},
     "output_type": "execute_result"
    }
   ],
   "source": [
    "data[data.columns[:]].isnull().sum()"
   ]
  },
  {
   "cell_type": "markdown",
   "metadata": {},
   "source": [
    "> No null values found. Life is good, perhaps!."
   ]
  },
  {
   "cell_type": "markdown",
   "metadata": {},
   "source": [
    "#### Feature Engineering"
   ]
  },
  {
   "cell_type": "code",
   "execution_count": 232,
   "metadata": {},
   "outputs": [
    {
     "data": {
      "text/plain": [
       "<matplotlib.text.Text at 0x1e8d5b44208>"
      ]
     },
     "execution_count": 232,
     "metadata": {},
     "output_type": "execute_result"
    },
    {
     "data": {
      "image/png": "[encoded data removed]",
      "text/plain": [
       "<matplotlib.figure.Figure at 0x1e8d5aff278>"
      ]
     },
     "metadata": {},
     "output_type": "display_data"
    }
   ],
   "source": [
    "fig, (ax1, ax2) = plt.subplots(ncols=2, sharey=True,figsize=(20, 20))\n",
    "\n",
    "ax1 = sns.distplot(data[\"area\"], kde= False, ax=ax1, bins = 15)\n",
    "ax1.set(xlabel='Area burnt', ylabel='Count')\n",
    "ax1.set_title(\"Area before transform\")\n",
    "\n",
    "ax2 = sns.distplot(np.log(data[\"area\"]+1), kde= False,ax=ax2)\n",
    "ax2.set(xlabel='Area burnt', ylabel='Count')\n",
    "ax2.set_title(\"After log transform of Area\")\n",
    "\n"
   ]
  },
  {
   "cell_type": "code",
   "execution_count": 233,
   "metadata": {},
   "outputs": [],
   "source": []
  },
  {
   "cell_type": "code",
   "execution_count": 284,
   "metadata": {},
   "outputs": [
    {
     "name": "stdout",
     "output_type": "stream",
     "text": [
      "[10]\n"
     ]
    }
   ],
   "source": [
    "area_index = [i for i in range(0, data.shape[1]) if (data.columns[i] == 'area')]\n",
    "print(area_index)\n"
   ]
  },
  {
   "cell_type": "code",
   "execution_count": 306,
   "metadata": {},
   "outputs": [],
   "source": [
    "data_numeric = data.iloc[:,0:11].values\n",
    "data_dummy = data.iloc[:,11:].values"
   ]
  },
  {
   "cell_type": "markdown",
   "metadata": {},
   "source": [
    "#### Standardizing - Does not make a difference. Gives me similar results with and without scaling."
   ]
  },
  {
   "cell_type": "code",
   "execution_count": 327,
   "metadata": {},
   "outputs": [],
   "source": [
    "stdsc = StandardScaler()\n",
    "data_scaled_numeric=stdsc.fit_transform(data_numeric)\n",
    "data_total = np.concatenate((data_scaled_numeric,data_dummy),axis =1)"
   ]
  },
  {
   "cell_type": "markdown",
   "metadata": {},
   "source": [
    "#### Complete Dataframe"
   ]
  },
  {
   "cell_type": "code",
   "execution_count": 86,
   "metadata": {},
   "outputs": [],
   "source": [
    "#data_total_frame = pd.DataFrame(data_total)\n",
    "#data_total_frame.columns = data.columns\n",
    "#data_total_frame.describe()\n",
    "X = data.drop(['area'], axis=1)\n",
    "y = np.log(data['area']+1)\n"
   ]
  },
  {
   "cell_type": "markdown",
   "metadata": {},
   "source": [
    "#### Train Test and Valid Split"
   ]
  },
  {
   "cell_type": "code",
   "execution_count": 83,
   "metadata": {},
   "outputs": [],
   "source": [
    "X_train, X_test, y_train, y_test = train_test_split(X, y, test_size=0.3,random_state=1234)"
   ]
  },
  {
   "cell_type": "markdown",
   "metadata": {},
   "source": [
    "#### Root mean square function"
   ]
  },
  {
   "cell_type": "code",
   "execution_count": 84,
   "metadata": {
    "collapsed": true
   },
   "outputs": [],
   "source": [
    "root_mean_squared_err = lambda y, yhat: np.sqrt(np.mean((y-yhat)**2))"
   ]
  },
  {
   "cell_type": "markdown",
   "metadata": {},
   "source": [
    "#### Feature Selection "
   ]
  },
  {
   "cell_type": "markdown",
   "metadata": {},
   "source": [
    "##### Feature Selection using Ridge and RFE\n"
   ]
  },
  {
   "cell_type": "code",
   "execution_count": 120,
   "metadata": {},
   "outputs": [
    {
     "name": "stdout",
     "output_type": "stream",
     "text": [
      "Number of Features:  14\n",
      "Selected Features:  [False False False False False False False False False  True False False\n",
      "  True  True  True False  True  True  True  True  True  True  True False\n",
      "  True False  True  True False]\n",
      "Feature Ranking:  [ 4 14 11 13 15 10  8 16  2  1  5  6  1  1  1  7  1  1  1  1  1  1  1  9  1\n",
      "  3  1  1 12]\n"
     ]
    }
   ],
   "source": [
    "from sklearn.linear_model import Ridge\n",
    "\n",
    "model = Ridge()\n",
    "rfe = RFE(model)\n",
    "rfe.fit(X,y)\n",
    "print(\"Number of Features: \", rfe.n_features_)\n",
    "print(\"Selected Features: \", rfe.support_)\n",
    "print(\"Feature Ranking: \", rfe.ranking_) \n",
    "selected_feature_index = X.columns[rfe.support_]\n"
   ]
  },
  {
   "cell_type": "code",
   "execution_count": 162,
   "metadata": {
    "collapsed": true
   },
   "outputs": [],
   "source": [
    "alpha_val = list() \n",
    "for e in range(-1,6):\n",
    "    alpha_val.append(10**e)  \n"
   ]
  },
  {
   "cell_type": "markdown",
   "metadata": {},
   "source": [
    "#### Ridge Regression"
   ]
  },
  {
   "cell_type": "code",
   "execution_count": 163,
   "metadata": {
    "scrolled": true
   },
   "outputs": [
    {
     "name": "stdout",
     "output_type": "stream",
     "text": [
      "[1.4000925725575741, 1.4001092995947135, 1.4008457580760558, 1.4083825108458834, 1.4162988912427772, 1.41982288107305, 1.4215119636001996]\n",
      "\n",
      "[1.3329884738618607, 1.3322674740732074, 1.3274854848970785, 1.3194886312608296, 1.3208728808620869, 1.3243654904642037, 1.324017346842006]\n"
     ]
    }
   ],
   "source": [
    "train_error_ridge = []\n",
    "test_error_ridge = []\n",
    "\n",
    "for a in alpha_val:    \n",
    "    model = Ridge(alpha=a)\n",
    "    model.fit(X_train[selected_feature_index],y_train)\n",
    "    train_error_ridge.append(root_mean_squared_err(y_train, model.predict(X_train[selected_feature_index])))\n",
    "    test_error_ridge.append(root_mean_squared_err(y_test, model.predict(X_test[selected_feature_index])))\n",
    "\n",
    "print(train_error_ridge)\n",
    "print()\n",
    "print(test_error_ridge)    "
   ]
  },
  {
   "cell_type": "code",
   "execution_count": 164,
   "metadata": {},
   "outputs": [
    {
     "data": {
      "image/png": "[encoded data removed]",
      "text/plain": [
       "<matplotlib.figure.Figure at 0x1e9d5a3f240>"
      ]
     },
     "metadata": {},
     "output_type": "display_data"
    }
   ],
   "source": [
    "fig = plt.figure(figsize=(10,10))\n",
    "plt.title('Alpha varied for Ridge')\n",
    "plt.xscale('log',basex= 10)\n",
    "plt.plot(alpha_val,train_error_ridge,\"-o\", label = 'Training Error')\n",
    "plt.plot(alpha_val,test_error_ridge,\"-o\", label = 'Testing Error')\n",
    "plt.legend()\n",
    "plt.xlabel('Alpha')\n",
    "plt.ylabel('Root Mean Square Error')\n",
    "fig.savefig('data/RidgeGraph.jpeg')\n",
    "    \n"
   ]
  },
  {
   "cell_type": "markdown",
   "metadata": {},
   "source": [
    "#### Lasso Regression - Feature Selection"
   ]
  },
  {
   "cell_type": "code",
   "execution_count": 165,
   "metadata": {},
   "outputs": [
    {
     "name": "stdout",
     "output_type": "stream",
     "text": [
      "Number of Features:  14\n",
      "Selected Features:  [False False False  True  True False False  True  True  True  True False\n",
      " False False False False False False False False False  True  True  True\n",
      "  True  True  True  True  True]\n",
      "Feature Ranking:  [16 15 14  1  1  3  2  1  1  1  1  5  7  9 11 13 12 10  8  6  4  1  1  1  1\n",
      "  1  1  1  1]\n"
     ]
    }
   ],
   "source": [
    "from sklearn import linear_model\n",
    "     \n",
    "model = linear_model.Lasso()\n",
    "rfe = RFE(model)\n",
    "rfe.fit(X,y)\n",
    "print(\"Number of Features: \", rfe.n_features_)\n",
    "print(\"Selected Features: \", rfe.support_)\n",
    "print(\"Feature Ranking: \", rfe.ranking_) \n",
    "selected_feature_index = X.columns[rfe.support_]"
   ]
  },
  {
   "cell_type": "markdown",
   "metadata": {},
   "source": [
    "#### Lasso Regression"
   ]
  },
  {
   "cell_type": "code",
   "execution_count": 167,
   "metadata": {},
   "outputs": [
    {
     "name": "stdout",
     "output_type": "stream",
     "text": [
      "[1.4179005464621426, 1.4222774134423313, 1.4257010826027388, 1.430162028186774, 1.430162028186774, 1.430162028186774, 1.430162028186774]\n",
      "\n",
      "[1.3210926856217904, 1.3235244755130762, 1.3217828011824515, 1.3210431124123754, 1.3210431124123754, 1.3210431124123754, 1.3210431124123754]\n"
     ]
    }
   ],
   "source": [
    "train_error_lasso = []\n",
    "test_error_lasso = []\n",
    "\n",
    "for a in alpha_val:    \n",
    "    clf = linear_model.Lasso(alpha=a)\n",
    "    clf.fit(X_train[selected_feature_index],y_train)\n",
    "    train_error_lasso.append(root_mean_squared_err(y_train, clf.predict(X_train[selected_feature_index])))\n",
    "    test_error_lasso.append(root_mean_squared_err(y_test, clf.predict(X_test[selected_feature_index])))\n",
    "\n",
    "print(train_error_lasso)\n",
    "print()\n",
    "print(test_error_lasso)    "
   ]
  },
  {
   "cell_type": "markdown",
   "metadata": {},
   "source": [
    "#### Graph of Lasso - MSE"
   ]
  },
  {
   "cell_type": "code",
   "execution_count": 168,
   "metadata": {},
   "outputs": [
    {
     "data": {
      "image/png": "[encoded data removed]",
      "text/plain": [
       "<matplotlib.figure.Figure at 0x1e9d5b17898>"
      ]
     },
     "metadata": {},
     "output_type": "display_data"
    }
   ],
   "source": [
    "fig = plt.figure(figsize=(10,10))\n",
    "plt.title('Alpha varied for Lasso')\n",
    "plt.xscale('log',basex= 10)\n",
    "plt.plot(alpha_val,train_error_lasso,\"-o\", label = 'Testing Error')\n",
    "plt.plot(alpha_val,test_error_lasso,\"-o\", label = 'Training Error')\n",
    "plt.legend()\n",
    "plt.xlabel('Alpha')\n",
    "plt.ylabel('Root Mean Square Error')\n",
    "fig.savefig('data/LassoGraph.jpeg')\n",
    "    \n"
   ]
  },
  {
   "cell_type": "markdown",
   "metadata": {},
   "source": [
    "###### Random Forest Regressor"
   ]
  },
  {
   "cell_type": "code",
   "execution_count": 172,
   "metadata": {},
   "outputs": [
    {
     "name": "stdout",
     "output_type": "stream",
     "text": [
      "Number of Features:  14\n",
      "Selected Features:  [ True  True  True  True  True  True  True  True  True False False False\n",
      " False False False False False False False False False  True False False\n",
      "  True  True False  True  True]\n",
      "Feature Ranking:  [ 1  1  1  1  1  1  1  1  1 13 15  5  9 11 14  7 10  8  4 16 12  1  3  6  1\n",
      "  1  2  1  1]\n"
     ]
    }
   ],
   "source": [
    "from sklearn.ensemble import RandomForestRegressor\n",
    "model = RandomForestRegressor()\n",
    "rfe = RFE(model)\n",
    "rfe.fit(X,y)\n",
    "print(\"Number of Features: \", rfe.n_features_)\n",
    "print(\"Selected Features: \", rfe.support_)\n",
    "print(\"Feature Ranking: \", rfe.ranking_) \n",
    "selected_feature_index = X.columns[rfe.support_]"
   ]
  },
  {
   "cell_type": "code",
   "execution_count": 173,
   "metadata": {},
   "outputs": [
    {
     "name": "stdout",
     "output_type": "stream",
     "text": [
      "[1.4024476376441464, 1.3651620040155172, 1.2583080778728901, 0.9642287956122525, 0.68045662747013325, 0.6712001673063821, 0.65758431038620579, 0.66970018319418101, 0.70747192700488515, 0.69020338423073102]\n",
      "\n",
      "[1.3142887625008288, 1.322764674841614, 1.3497633684919286, 1.3319695747030604, 1.4523489185527041, 1.456912356911976, 1.312095265152482, 1.3761922603946097, 1.3745937659755381, 1.3963414344747009]\n"
     ]
    }
   ],
   "source": [
    "train_error_rf = []\n",
    "test_error_rf = []\n",
    "md = list() \n",
    "for e in range(0,10):\n",
    "    md.append(2**e)  \n",
    "\n",
    "for d in md:    \n",
    "    clf = RandomForestRegressor(max_depth=d)\n",
    "    clf.fit(X_train[selected_feature_index],y_train)\n",
    "    train_error_rf.append(root_mean_squared_err(y_train, clf.predict(X_train[selected_feature_index])))\n",
    "    test_error_rf.append(root_mean_squared_err(y_test, clf.predict(X_test[selected_feature_index])))\n",
    "   \n",
    "    \n",
    "print(train_error_rf)\n",
    "print()\n",
    "print(test_error_rf)   "
   ]
  },
  {
   "cell_type": "code",
   "execution_count": 174,
   "metadata": {},
   "outputs": [
    {
     "data": {
      "image/png": "[encoded data removed]",
      "text/plain": [
       "<matplotlib.figure.Figure at 0x1e9d4b5b048>"
      ]
     },
     "metadata": {},
     "output_type": "display_data"
    }
   ],
   "source": [
    "fig = plt.figure(figsize=(10,10))\n",
    "plt.title('Depth varied for Random Forest')\n",
    "plt.xscale('log',basex= 10)\n",
    "plt.plot(md,train_error_rf,\"-o\", label = 'Training Error')\n",
    "plt.plot(md,test_error_rf,\"-o\", label = 'Testing Error')\n",
    "plt.legend()\n",
    "plt.xlabel('Depth')\n",
    "plt.ylabel('Root Mean Square Error')\n",
    "fig.savefig('data/Graph.jpeg')\n",
    "    \n"
   ]
  }
 ],
 "metadata": {
  "kernelspec": {
   "display_name": "Python 3",
   "language": "python",
   "name": "python3"
  },
  "language_info": {
   "codemirror_mode": {
    "name": "ipython",
    "version": 3
   },
   "file_extension": ".py",
   "mimetype": "text/x-python",
   "name": "python",
   "nbconvert_exporter": "python",
   "pygments_lexer": "ipython3",
   "version": "3.6.1"
  }
 },
 "nbformat": 4,
 "nbformat_minor": 2
}
